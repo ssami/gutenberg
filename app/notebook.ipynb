{
 "cells": [
  {
   "cell_type": "code",
   "execution_count": 30,
   "metadata": {},
   "outputs": [],
   "source": [
    "import redis"
   ]
  },
  {
   "cell_type": "code",
   "execution_count": 31,
   "metadata": {},
   "outputs": [],
   "source": [
    "r = redis.Redis(\n",
    "    host=\"localhost\",\n",
    "    port=6379,\n",
    "    password=None\n",
    ")"
   ]
  },
  {
   "cell_type": "code",
   "execution_count": 33,
   "metadata": {},
   "outputs": [],
   "source": [
    "model_info = {\n",
    "    \"date\": \"now\",\n",
    "    \"description\": \"fancy\",\n",
    "    \"f1\": 1.0\n",
    "}"
   ]
  },
  {
   "cell_type": "code",
   "execution_count": 38,
   "metadata": {},
   "outputs": [
    {
     "data": {
      "text/plain": [
       "set()"
      ]
     },
     "execution_count": 38,
     "metadata": {},
     "output_type": "execute_result"
    }
   ],
   "source": [
    "r.smembers('models')"
   ]
  },
  {
   "cell_type": "code",
   "execution_count": 28,
   "metadata": {},
   "outputs": [
    {
     "data": {
      "text/plain": [
       "{b'description': b'some sample model',\n",
       " b'hash': b'1533405936',\n",
       " b'metrics': b\"{'f1': 1.0}\",\n",
       " b'timestamp': b'1533405936.315709'}"
      ]
     },
     "execution_count": 28,
     "metadata": {},
     "output_type": "execute_result"
    }
   ],
   "source": [
    "r.hgetall('1533405936')"
   ]
  },
  {
   "cell_type": "code",
   "execution_count": 36,
   "metadata": {},
   "outputs": [],
   "source": [
    "import hashlib\n",
    "m = hashlib.md5()\n",
    "m.update('this is my model name'.encode('utf-8'))\n",
    "md5 = m.hexdigest()"
   ]
  },
  {
   "cell_type": "code",
   "execution_count": 35,
   "metadata": {},
   "outputs": [],
   "source": [
    "model_info = {'timestamp': 1533405659.36051, 'description': 'some sample model', 'hash': 1533405659, 'metrics': {'f1': 1.0}}"
   ]
  },
  {
   "cell_type": "code",
   "execution_count": 37,
   "metadata": {},
   "outputs": [
    {
     "data": {
      "text/plain": [
       "True"
      ]
     },
     "execution_count": 37,
     "metadata": {},
     "output_type": "execute_result"
    }
   ],
   "source": [
    "r.hmset(md5, model_info)"
   ]
  },
  {
   "cell_type": "code",
   "execution_count": 20,
   "metadata": {},
   "outputs": [
    {
     "data": {
      "text/plain": [
       "'ab78d965789f41a6615f468b5117d21d'"
      ]
     },
     "execution_count": 20,
     "metadata": {},
     "output_type": "execute_result"
    }
   ],
   "source": [
    "md5"
   ]
  },
  {
   "cell_type": "code",
   "execution_count": null,
   "metadata": {},
   "outputs": [],
   "source": []
  },
  {
   "cell_type": "code",
   "execution_count": 8,
   "metadata": {},
   "outputs": [
    {
     "data": {
      "text/plain": [
       "True"
      ]
     },
     "execution_count": 8,
     "metadata": {},
     "output_type": "execute_result"
    }
   ],
   "source": [
    "r.hmset(md5, model_info)"
   ]
  },
  {
   "cell_type": "code",
   "execution_count": 41,
   "metadata": {},
   "outputs": [
    {
     "data": {
      "text/plain": [
       "{b'description': b'some sample model',\n",
       " b'hash': b'1533405659',\n",
       " b'metrics': b\"{'f1': 1.0}\",\n",
       " b'timestamp': b'1533405659.36051'}"
      ]
     },
     "execution_count": 41,
     "metadata": {},
     "output_type": "execute_result"
    }
   ],
   "source": [
    "r.hgetall('ab78d965789f41a6615f468b5117d21d')"
   ]
  },
  {
   "cell_type": "code",
   "execution_count": 13,
   "metadata": {},
   "outputs": [
    {
     "data": {
      "text/plain": [
       "[b\"{'f1': 1.0}\", b'some sample model', b'1533405659', b'1533405659.36051']"
      ]
     },
     "execution_count": 13,
     "metadata": {},
     "output_type": "execute_result"
    }
   ],
   "source": [
    "r.hmget(md5, model_info.keys())"
   ]
  },
  {
   "cell_type": "code",
   "execution_count": 10,
   "metadata": {},
   "outputs": [
    {
     "data": {
      "text/plain": [
       "{'date': 'now', 'description': 'fancy', 'f1': '1.0'}"
      ]
     },
     "execution_count": 10,
     "metadata": {},
     "output_type": "execute_result"
    }
   ],
   "source": [
    "r.hgetall(md5)"
   ]
  },
  {
   "cell_type": "code",
   "execution_count": 39,
   "metadata": {},
   "outputs": [
    {
     "data": {
      "text/plain": [
       "1"
      ]
     },
     "execution_count": 39,
     "metadata": {},
     "output_type": "execute_result"
    }
   ],
   "source": [
    "r.sadd('models', md5)"
   ]
  },
  {
   "cell_type": "code",
   "execution_count": 40,
   "metadata": {},
   "outputs": [
    {
     "data": {
      "text/plain": [
       "{b'ab78d965789f41a6615f468b5117d21d'}"
      ]
     },
     "execution_count": 40,
     "metadata": {},
     "output_type": "execute_result"
    }
   ],
   "source": [
    "r.smembers('models')"
   ]
  },
  {
   "cell_type": "code",
   "execution_count": 13,
   "metadata": {
    "collapsed": true
   },
   "outputs": [],
   "source": [
    "setmem = r.smembers('models')"
   ]
  },
  {
   "cell_type": "code",
   "execution_count": 16,
   "metadata": {},
   "outputs": [
    {
     "data": {
      "text/plain": [
       "set"
      ]
     },
     "execution_count": 16,
     "metadata": {},
     "output_type": "execute_result"
    }
   ],
   "source": [
    "type(setmem)"
   ]
  },
  {
   "cell_type": "code",
   "execution_count": 25,
   "metadata": {},
   "outputs": [],
   "source": [
    "arr = [i.encode('utf-8') for i in setmem]"
   ]
  },
  {
   "cell_type": "code",
   "execution_count": 26,
   "metadata": {},
   "outputs": [
    {
     "data": {
      "text/plain": [
       "['ab78d965789f41a6615f468b5117d21d']"
      ]
     },
     "execution_count": 26,
     "metadata": {},
     "output_type": "execute_result"
    }
   ],
   "source": [
    "arr"
   ]
  },
  {
   "cell_type": "code",
   "execution_count": 22,
   "metadata": {},
   "outputs": [
    {
     "data": {
      "text/plain": [
       "'[\"ab78d965789f41a6615f468b5117d21d\"]'"
      ]
     },
     "execution_count": 22,
     "metadata": {},
     "output_type": "execute_result"
    }
   ],
   "source": [
    "import json\n",
    "json.dumps(arr)"
   ]
  },
  {
   "cell_type": "code",
   "execution_count": 33,
   "metadata": {
    "collapsed": true
   },
   "outputs": [],
   "source": [
    "import time, math"
   ]
  },
  {
   "cell_type": "code",
   "execution_count": 36,
   "metadata": {},
   "outputs": [
    {
     "data": {
      "text/plain": [
       "1533266283"
      ]
     },
     "execution_count": 36,
     "metadata": {},
     "output_type": "execute_result"
    }
   ],
   "source": [
    "int(time.time())"
   ]
  },
  {
   "cell_type": "markdown",
   "metadata": {},
   "source": []
  },
  {
   "cell_type": "code",
   "execution_count": 2,
   "metadata": {},
   "outputs": [],
   "source": [
    "from abc import ABC, abstractmethod\n",
    "class Generator(ABC):\n",
    "\n",
    "    @abstractmethod\n",
    "    def generate(): \n",
    "        pass"
   ]
  },
  {
   "cell_type": "code",
   "execution_count": 3,
   "metadata": {},
   "outputs": [],
   "source": [
    "class HashGenerator(Generator):\n",
    "    \n",
    "    def generate(): \n",
    "        return \"whee\""
   ]
  },
  {
   "cell_type": "code",
   "execution_count": 6,
   "metadata": {},
   "outputs": [
    {
     "name": "stdout",
     "output_type": "stream",
     "text": [
      "True\n"
     ]
    }
   ],
   "source": [
    "hg = HashGenerator()\n",
    "print(type(hg.__) is HashGenerator)"
   ]
  },
  {
   "cell_type": "code",
   "execution_count": 7,
   "metadata": {},
   "outputs": [],
   "source": [
    "class ModelInfo():\n",
    "\n",
    "    def __init__(self, description, metrics):\n",
    "        self.hash = None\n",
    "        self.timestamp = time.time()\n",
    "        self.description = description\n",
    "        self.metrics = metrics\n",
    "        \n",
    "    def items(self):\n",
    "        return {\n",
    "            'hash': self.hash,\n",
    "            'timestamp': self.timestamp,\n",
    "            'description': self.description,\n",
    "            'metrics': self.metrics\n",
    "        }"
   ]
  },
  {
   "cell_type": "code",
   "execution_count": 8,
   "metadata": {},
   "outputs": [
    {
     "ename": "TypeError",
     "evalue": "__init__() missing 2 required positional arguments: 'description' and 'metrics'",
     "traceback": [
      "\u001b[0;31m---------------------------------------------------------------------------\u001b[0m",
      "\u001b[0;31mTypeError\u001b[0m                                 Traceback (most recent call last)",
      "\u001b[0;32m<ipython-input-8-834bbe2dc3e4>\u001b[0m in \u001b[0;36m<module>\u001b[0;34m()\u001b[0m\n\u001b[0;32m----> 1\u001b[0;31m \u001b[0mmi\u001b[0m \u001b[0;34m=\u001b[0m \u001b[0mModelInfo\u001b[0m\u001b[0;34m(\u001b[0m\u001b[0;34m)\u001b[0m\u001b[0;34m\u001b[0m\u001b[0m\n\u001b[0m",
      "\u001b[0;31mTypeError\u001b[0m: __init__() missing 2 required positional arguments: 'description' and 'metrics'"
     ],
     "output_type": "error"
    }
   ],
   "source": [
    "mi = ModelInfo()"
   ]
  },
  {
   "cell_type": "code",
   "execution_count": 1,
   "metadata": {},
   "outputs": [
    {
     "data": {
      "text/plain": [
       "('file', '.txt')"
      ]
     },
     "execution_count": 1,
     "metadata": {},
     "output_type": "execute_result"
    }
   ],
   "source": [
    "test = 'file.txt'\n",
    "import os\n",
    "os.path.splitext(test)"
   ]
  },
  {
   "cell_type": "code",
   "execution_count": 17,
   "metadata": {},
   "outputs": [],
   "source": [
    "from abc import ABC, abstractmethod\n",
    "class Met(ABC):\n",
    "    def __init__(self, a): \n",
    "        self.a = a\n",
    "    @abstractmethod\n",
    "    def thing(self): \n",
    "        pass"
   ]
  },
  {
   "cell_type": "code",
   "execution_count": 18,
   "metadata": {},
   "outputs": [],
   "source": [
    "class TwoMet(Met):\n",
    "    def thing(self):\n",
    "        print(self.a)"
   ]
  },
  {
   "cell_type": "code",
   "execution_count": 19,
   "metadata": {},
   "outputs": [],
   "source": [
    "a = TwoMet('something')"
   ]
  },
  {
   "cell_type": "code",
   "execution_count": 20,
   "metadata": {},
   "outputs": [
    {
     "name": "stdout",
     "output_type": "stream",
     "text": [
      "something\n"
     ]
    }
   ],
   "source": [
    "a.thing()"
   ]
  },
  {
   "cell_type": "code",
   "execution_count": 23,
   "metadata": {},
   "outputs": [
    {
     "data": {
      "text/plain": [
       "True"
      ]
     },
     "execution_count": 23,
     "metadata": {},
     "output_type": "execute_result"
    }
   ],
   "source": [
    "isinstance(a, Met)"
   ]
  },
  {
   "cell_type": "code",
   "execution_count": 27,
   "metadata": {},
   "outputs": [],
   "source": [
    "clz = Met.__subclasses__()[0]"
   ]
  },
  {
   "cell_type": "code",
   "execution_count": 40,
   "metadata": {},
   "outputs": [
    {
     "name": "stdout",
     "output_type": "stream",
     "text": [
      "['TwoMet']\n"
     ]
    }
   ],
   "source": [
    "subclz = [x.__name__ for x in Met.__subclasses__()]\n",
    "print(subclz)"
   ]
  },
  {
   "cell_type": "code",
   "execution_count": 33,
   "metadata": {},
   "outputs": [],
   "source": [
    "clz = '__main__.TwoMet'"
   ]
  },
  {
   "cell_type": "code",
   "execution_count": 38,
   "metadata": {},
   "outputs": [
    {
     "data": {
      "text/plain": [
       "False"
      ]
     },
     "execution_count": 38,
     "metadata": {},
     "output_type": "execute_result"
    }
   ],
   "source": [
    "clz in subclz"
   ]
  },
  {
   "cell_type": "code",
   "execution_count": 14,
   "metadata": {},
   "outputs": [],
   "source": [
    "from minio import Minio\n",
    "client = Minio('127.0.0.1:9000', access_key='admin', secret_key='password', secure=False)"
   ]
  },
  {
   "cell_type": "code",
   "execution_count": 15,
   "metadata": {},
   "outputs": [
    {
     "ename": "BucketAlreadyOwnedByYou",
     "evalue": "BucketAlreadyOwnedByYou: message: Your previous request to create the named bucket succeeded and you already own it.",
     "traceback": [
      "\u001b[0;31m---------------------------------------------------------------------------\u001b[0m",
      "\u001b[0;31mBucketAlreadyOwnedByYou\u001b[0m                   Traceback (most recent call last)",
      "\u001b[0;32m<ipython-input-15-88f80e2d7a30>\u001b[0m in \u001b[0;36m<module>\u001b[0;34m()\u001b[0m\n\u001b[0;32m----> 1\u001b[0;31m \u001b[0mclient\u001b[0m\u001b[0;34m.\u001b[0m\u001b[0mmake_bucket\u001b[0m\u001b[0;34m(\u001b[0m\u001b[0;34m'models'\u001b[0m\u001b[0;34m)\u001b[0m\u001b[0;34m\u001b[0m\u001b[0m\n\u001b[0m",
      "\u001b[0;32m~/anaconda/envs/gutenberg/lib/python3.5/site-packages/minio/api.py\u001b[0m in \u001b[0;36mmake_bucket\u001b[0;34m(self, bucket_name, location)\u001b[0m\n\u001b[1;32m    287\u001b[0m \u001b[0;34m\u001b[0m\u001b[0m\n\u001b[1;32m    288\u001b[0m         \u001b[0;32mif\u001b[0m \u001b[0mresponse\u001b[0m\u001b[0;34m.\u001b[0m\u001b[0mstatus\u001b[0m \u001b[0;34m!=\u001b[0m \u001b[0;36m200\u001b[0m\u001b[0;34m:\u001b[0m\u001b[0;34m\u001b[0m\u001b[0m\n\u001b[0;32m--> 289\u001b[0;31m             \u001b[0;32mraise\u001b[0m \u001b[0mResponseError\u001b[0m\u001b[0;34m(\u001b[0m\u001b[0mresponse\u001b[0m\u001b[0;34m,\u001b[0m \u001b[0mmethod\u001b[0m\u001b[0;34m,\u001b[0m \u001b[0mbucket_name\u001b[0m\u001b[0;34m)\u001b[0m\u001b[0;34m.\u001b[0m\u001b[0mget_exception\u001b[0m\u001b[0;34m(\u001b[0m\u001b[0;34m)\u001b[0m\u001b[0;34m\u001b[0m\u001b[0m\n\u001b[0m\u001b[1;32m    290\u001b[0m \u001b[0;34m\u001b[0m\u001b[0m\n\u001b[1;32m    291\u001b[0m         \u001b[0mself\u001b[0m\u001b[0;34m.\u001b[0m\u001b[0m_set_bucket_region\u001b[0m\u001b[0;34m(\u001b[0m\u001b[0mbucket_name\u001b[0m\u001b[0;34m,\u001b[0m \u001b[0mregion\u001b[0m\u001b[0;34m=\u001b[0m\u001b[0mlocation\u001b[0m\u001b[0;34m)\u001b[0m\u001b[0;34m\u001b[0m\u001b[0m\n",
      "\u001b[0;31mBucketAlreadyOwnedByYou\u001b[0m: BucketAlreadyOwnedByYou: message: Your previous request to create the named bucket succeeded and you already own it."
     ],
     "output_type": "error"
    }
   ],
   "source": [
    "client.make_bucket('models')"
   ]
  },
  {
   "cell_type": "code",
   "execution_count": 16,
   "metadata": {},
   "outputs": [
    {
     "data": {
      "text/plain": [
       "[<minio.definitions.Bucket at 0x110be5c50>]"
      ]
     },
     "execution_count": 16,
     "metadata": {},
     "output_type": "execute_result"
    }
   ],
   "source": [
    "client.list_buckets()"
   ]
  },
  {
   "cell_type": "code",
   "execution_count": 19,
   "metadata": {},
   "outputs": [
    {
     "data": {
      "text/plain": [
       "'9ef9fbdeeda458a7c065aba94f7f6aed-154'"
      ]
     },
     "execution_count": 19,
     "metadata": {},
     "output_type": "execute_result"
    }
   ],
   "source": [
    "client.fput_object('models', 'gutenberg.bin', '/Users/ssami/Git_personal/MachineLearning/gutenberg/gutenberg.bin')"
   ]
  },
  {
   "cell_type": "code",
   "execution_count": 20,
   "metadata": {},
   "outputs": [
    {
     "name": "stdout",
     "output_type": "stream",
     "text": [
      "models:gutenberg.bin\n",
      "models:gutenberg_test\n",
      "models:gutenberg_test.bin\n"
     ]
    }
   ],
   "source": [
    "for obj in client.list_objects_v2('models'): \n",
    "    print(obj.bucket_name + ':' + obj.object_name)"
   ]
  },
  {
   "cell_type": "code",
   "execution_count": 12,
   "metadata": {},
   "outputs": [],
   "source": [
    "import urllib"
   ]
  },
  {
   "cell_type": "code",
   "execution_count": 15,
   "metadata": {},
   "outputs": [],
   "source": [
    "parsed = urllib.parse.urlparse('http://localhost:9000/models/gutenberg_f1_33')"
   ]
  },
  {
   "cell_type": "code",
   "execution_count": 16,
   "metadata": {},
   "outputs": [
    {
     "name": "stdout",
     "output_type": "stream",
     "text": [
      "Help on ParseResult in module urllib.parse object:\n",
      "\n",
      "class ParseResult(ParseResult, _NetlocResultMixinStr)\n",
      " |  ParseResult(scheme, netloc, path, params, query, fragment)\n",
      " |  \n",
      " |  Method resolution order:\n",
      " |      ParseResult\n",
      " |      ParseResult\n",
      " |      builtins.tuple\n",
      " |      _NetlocResultMixinStr\n",
      " |      _NetlocResultMixinBase\n",
      " |      _ResultMixinStr\n",
      " |      builtins.object\n",
      " |  \n",
      " |  Methods defined here:\n",
      " |  \n",
      " |  geturl(self)\n",
      " |  \n",
      " |  ----------------------------------------------------------------------\n",
      " |  Data and other attributes defined here:\n",
      " |  \n",
      " |  _encoded_counterpart = <class 'urllib.parse.ParseResultBytes'>\n",
      " |      ParseResult(scheme, netloc, path, params, query, fragment)\n",
      " |  \n",
      " |  ----------------------------------------------------------------------\n",
      " |  Methods inherited from ParseResult:\n",
      " |  \n",
      " |  __getnewargs__(self)\n",
      " |      Return self as a plain tuple.  Used by copy and pickle.\n",
      " |  \n",
      " |  __repr__(self)\n",
      " |      Return a nicely formatted representation string\n",
      " |  \n",
      " |  _asdict(self)\n",
      " |      Return a new OrderedDict which maps field names to their values.\n",
      " |  \n",
      " |  _replace(_self, **kwds)\n",
      " |      Return a new ParseResult object replacing specified fields with new values\n",
      " |  \n",
      " |  ----------------------------------------------------------------------\n",
      " |  Class methods inherited from ParseResult:\n",
      " |  \n",
      " |  _make(iterable, new=<built-in method __new__ of type object at 0x109890040>, len=<built-in function len>) from builtins.type\n",
      " |      Make a new ParseResult object from a sequence or iterable\n",
      " |  \n",
      " |  ----------------------------------------------------------------------\n",
      " |  Static methods inherited from ParseResult:\n",
      " |  \n",
      " |  __new__(_cls, scheme, netloc, path, params, query, fragment)\n",
      " |      Create new instance of ParseResult(scheme, netloc, path, params, query, fragment)\n",
      " |  \n",
      " |  ----------------------------------------------------------------------\n",
      " |  Data descriptors inherited from ParseResult:\n",
      " |  \n",
      " |  fragment\n",
      " |      Alias for field number 5\n",
      " |  \n",
      " |  netloc\n",
      " |      Alias for field number 1\n",
      " |  \n",
      " |  params\n",
      " |      Alias for field number 3\n",
      " |  \n",
      " |  path\n",
      " |      Alias for field number 2\n",
      " |  \n",
      " |  query\n",
      " |      Alias for field number 4\n",
      " |  \n",
      " |  scheme\n",
      " |      Alias for field number 0\n",
      " |  \n",
      " |  ----------------------------------------------------------------------\n",
      " |  Data and other attributes inherited from ParseResult:\n",
      " |  \n",
      " |  _fields = ('scheme', 'netloc', 'path', 'params', 'query', 'fragment')\n",
      " |  \n",
      " |  _source = \"from builtins import property as _property, tupl..._itemget...\n",
      " |  \n",
      " |  ----------------------------------------------------------------------\n",
      " |  Methods inherited from builtins.tuple:\n",
      " |  \n",
      " |  __add__(self, value, /)\n",
      " |      Return self+value.\n",
      " |  \n",
      " |  __contains__(self, key, /)\n",
      " |      Return key in self.\n",
      " |  \n",
      " |  __eq__(self, value, /)\n",
      " |      Return self==value.\n",
      " |  \n",
      " |  __ge__(self, value, /)\n",
      " |      Return self>=value.\n",
      " |  \n",
      " |  __getattribute__(self, name, /)\n",
      " |      Return getattr(self, name).\n",
      " |  \n",
      " |  __getitem__(self, key, /)\n",
      " |      Return self[key].\n",
      " |  \n",
      " |  __gt__(self, value, /)\n",
      " |      Return self>value.\n",
      " |  \n",
      " |  __hash__(self, /)\n",
      " |      Return hash(self).\n",
      " |  \n",
      " |  __iter__(self, /)\n",
      " |      Implement iter(self).\n",
      " |  \n",
      " |  __le__(self, value, /)\n",
      " |      Return self<=value.\n",
      " |  \n",
      " |  __len__(self, /)\n",
      " |      Return len(self).\n",
      " |  \n",
      " |  __lt__(self, value, /)\n",
      " |      Return self<value.\n",
      " |  \n",
      " |  __mul__(self, value, /)\n",
      " |      Return self*value.n\n",
      " |  \n",
      " |  __ne__(self, value, /)\n",
      " |      Return self!=value.\n",
      " |  \n",
      " |  __rmul__(self, value, /)\n",
      " |      Return self*value.\n",
      " |  \n",
      " |  count(...)\n",
      " |      T.count(value) -> integer -- return number of occurrences of value\n",
      " |  \n",
      " |  index(...)\n",
      " |      T.index(value, [start, [stop]]) -> integer -- return first index of value.\n",
      " |      Raises ValueError if the value is not present.\n",
      " |  \n",
      " |  ----------------------------------------------------------------------\n",
      " |  Data descriptors inherited from _NetlocResultMixinStr:\n",
      " |  \n",
      " |  _hostinfo\n",
      " |  \n",
      " |  _userinfo\n",
      " |  \n",
      " |  ----------------------------------------------------------------------\n",
      " |  Data descriptors inherited from _NetlocResultMixinBase:\n",
      " |  \n",
      " |  hostname\n",
      " |  \n",
      " |  password\n",
      " |  \n",
      " |  port\n",
      " |  \n",
      " |  username\n",
      " |  \n",
      " |  ----------------------------------------------------------------------\n",
      " |  Methods inherited from _ResultMixinStr:\n",
      " |  \n",
      " |  encode(self, encoding='ascii', errors='strict')\n",
      "\n"
     ]
    }
   ],
   "source": [
    "help(parsed)"
   ]
  },
  {
   "cell_type": "code",
   "execution_count": 17,
   "metadata": {},
   "outputs": [
    {
     "data": {
      "text/plain": [
       "'localhost:9000'"
      ]
     },
     "execution_count": 17,
     "metadata": {},
     "output_type": "execute_result"
    }
   ],
   "source": [
    "parsed.netloc"
   ]
  },
  {
   "cell_type": "code",
   "execution_count": 18,
   "metadata": {},
   "outputs": [
    {
     "data": {
      "text/plain": [
       "'/models/gutenberg_f1_33'"
      ]
     },
     "execution_count": 18,
     "metadata": {},
     "output_type": "execute_result"
    }
   ],
   "source": [
    "parsed.path"
   ]
  },
  {
   "cell_type": "code",
   "execution_count": 11,
   "metadata": {},
   "outputs": [],
   "source": [
    "import os"
   ]
  },
  {
   "cell_type": "code",
   "execution_count": 20,
   "metadata": {},
   "outputs": [
    {
     "name": "stdout",
     "output_type": "stream",
     "text": [
      "Help on module posixpath:\n",
      "\n",
      "NAME\n",
      "    posixpath - Common operations on Posix pathnames.\n",
      "\n",
      "MODULE REFERENCE\n",
      "    https://docs.python.org/3.5/library/posixpath\n",
      "    \n",
      "    The following documentation is automatically generated from the Python\n",
      "    source files.  It may be incomplete, incorrect or include features that\n",
      "    are considered implementation detail and may vary between Python\n",
      "    implementations.  When in doubt, consult the module reference at the\n",
      "    location listed above.\n",
      "\n",
      "DESCRIPTION\n",
      "    Instead of importing this module directly, import os and refer to\n",
      "    this module as os.path.  The \"os.path\" name is an alias for this\n",
      "    module on Posix systems; on other systems (e.g. Mac, Windows),\n",
      "    os.path provides the same operations in a manner specific to that\n",
      "    platform, and is an alias to another module (e.g. macpath, ntpath).\n",
      "    \n",
      "    Some of this can actually be useful on non-Posix systems too, e.g.\n",
      "    for manipulation of the pathname component of URLs.\n",
      "\n",
      "FUNCTIONS\n",
      "    abspath(path)\n",
      "        Return an absolute path.\n",
      "    \n",
      "    basename(p)\n",
      "        Returns the final component of a pathname\n",
      "    \n",
      "    commonpath(paths)\n",
      "        Given a sequence of path names, returns the longest common sub-path.\n",
      "    \n",
      "    commonprefix(m)\n",
      "        Given a list of pathnames, returns the longest common leading component\n",
      "    \n",
      "    dirname(p)\n",
      "        Returns the directory component of a pathname\n",
      "    \n",
      "    exists(path)\n",
      "        Test whether a path exists.  Returns False for broken symbolic links\n",
      "    \n",
      "    expanduser(path)\n",
      "        Expand ~ and ~user constructions.  If user or $HOME is unknown,\n",
      "        do nothing.\n",
      "    \n",
      "    expandvars(path)\n",
      "        Expand shell variables of form $var and ${var}.  Unknown variables\n",
      "        are left unchanged.\n",
      "    \n",
      "    getatime(filename)\n",
      "        Return the last access time of a file, reported by os.stat().\n",
      "    \n",
      "    getctime(filename)\n",
      "        Return the metadata change time of a file, reported by os.stat().\n",
      "    \n",
      "    getmtime(filename)\n",
      "        Return the last modification time of a file, reported by os.stat().\n",
      "    \n",
      "    getsize(filename)\n",
      "        Return the size of a file, reported by os.stat().\n",
      "    \n",
      "    isabs(s)\n",
      "        Test whether a path is absolute\n",
      "    \n",
      "    isdir(s)\n",
      "        Return true if the pathname refers to an existing directory.\n",
      "    \n",
      "    isfile(path)\n",
      "        Test whether a path is a regular file\n",
      "    \n",
      "    islink(path)\n",
      "        Test whether a path is a symbolic link\n",
      "    \n",
      "    ismount(path)\n",
      "        Test whether a path is a mount point\n",
      "    \n",
      "    join(a, *p)\n",
      "        Join two or more pathname components, inserting '/' as needed.\n",
      "        If any component is an absolute path, all previous path components\n",
      "        will be discarded.  An empty last part will result in a path that\n",
      "        ends with a separator.\n",
      "    \n",
      "    lexists(path)\n",
      "        Test whether a path exists.  Returns True for broken symbolic links\n",
      "    \n",
      "    normcase(s)\n",
      "        Normalize case of pathname.  Has no effect under Posix\n",
      "    \n",
      "    normpath(path)\n",
      "        Normalize path, eliminating double slashes, etc.\n",
      "    \n",
      "    realpath(filename)\n",
      "        Return the canonical path of the specified filename, eliminating any\n",
      "        symbolic links encountered in the path.\n",
      "    \n",
      "    relpath(path, start=None)\n",
      "        Return a relative version of a path\n",
      "    \n",
      "    samefile(f1, f2)\n",
      "        Test whether two pathnames reference the same actual file\n",
      "    \n",
      "    sameopenfile(fp1, fp2)\n",
      "        Test whether two open file objects reference the same file\n",
      "    \n",
      "    samestat(s1, s2)\n",
      "        Test whether two stat buffers reference the same file\n",
      "    \n",
      "    split(p)\n",
      "        Split a pathname.  Returns tuple \"(head, tail)\" where \"tail\" is\n",
      "        everything after the final slash.  Either part may be empty.\n",
      "    \n",
      "    splitdrive(p)\n",
      "        Split a pathname into drive and path. On Posix, drive is always\n",
      "        empty.\n",
      "    \n",
      "    splitext(p)\n",
      "        Split the extension from a pathname.\n",
      "        \n",
      "        Extension is everything from the last dot to the end, ignoring\n",
      "        leading dots.  Returns \"(root, ext)\"; ext may be empty.\n",
      "\n",
      "DATA\n",
      "    __all__ = ['normcase', 'isabs', 'join', 'splitdrive', 'split', 'splite...\n",
      "    altsep = None\n",
      "    curdir = '.'\n",
      "    defpath = ':/bin:/usr/bin'\n",
      "    devnull = '/dev/null'\n",
      "    extsep = '.'\n",
      "    pardir = '..'\n",
      "    pathsep = ':'\n",
      "    sep = '/'\n",
      "    supports_unicode_filenames = True\n",
      "\n",
      "FILE\n",
      "    /Users/ssami/anaconda/envs/gutenberg/lib/python3.5/posixpath.py\n",
      "\n",
      "\n"
     ]
    }
   ],
   "source": [
    "help(os.path)"
   ]
  },
  {
   "cell_type": "code",
   "execution_count": 23,
   "metadata": {},
   "outputs": [
    {
     "data": {
      "text/plain": [
       "'model'"
      ]
     },
     "execution_count": 23,
     "metadata": {},
     "output_type": "execute_result"
    }
   ],
   "source": [
    "os.path.dirname(parsed.path)[1:-1]"
   ]
  },
  {
   "cell_type": "code",
   "execution_count": 24,
   "metadata": {},
   "outputs": [
    {
     "data": {
      "text/plain": [
       "'gutenberg_f1_33'"
      ]
     },
     "execution_count": 24,
     "metadata": {},
     "output_type": "execute_result"
    }
   ],
   "source": [
    "os.path.basename(parsed.path)"
   ]
  },
  {
   "cell_type": "code",
   "execution_count": 25,
   "metadata": {},
   "outputs": [],
   "source": [
    "import argparse\n",
    "parser = argparse.ArgumentParser()"
   ]
  },
  {
   "cell_type": "code",
   "execution_count": 26,
   "metadata": {},
   "outputs": [],
   "source": [
    "parser.add_argument('--endpoint', dest='endpoint', default='localhost:9000')\n",
    "parser.add_argument('--access', dest='access_key', default='admin')\n",
    "parser.add_argument('--secret', dest='secret_key', default='password')\n",
    "parser.add_argument('--bucket', dest='bucket', required=True)\n",
    "parser.add_argument('--object', dest='object_name', required=True)\n",
    "parser.add_argument('--path', dest='path', required=True)\n",
    "args = parser.parse_args(['--bucket', 'models', '--path', '/here', '--object', 'model.bin'])"
   ]
  },
  {
   "cell_type": "code",
   "execution_count": 27,
   "metadata": {},
   "outputs": [
    {
     "data": {
      "text/plain": [
       "Namespace(access_key='admin', bucket='models', endpoint='localhost:9000', object_name='model.bin', path='/here', secret_key='password')"
      ]
     },
     "execution_count": 27,
     "metadata": {},
     "output_type": "execute_result"
    }
   ],
   "source": [
    "args"
   ]
  },
  {
   "cell_type": "code",
   "execution_count": 28,
   "metadata": {},
   "outputs": [
    {
     "data": {
      "text/plain": [
       "'models'"
      ]
     },
     "execution_count": 28,
     "metadata": {},
     "output_type": "execute_result"
    }
   ],
   "source": [
    "args.bucket"
   ]
  },
  {
   "cell_type": "code",
   "execution_count": 17,
   "metadata": {},
   "outputs": [
    {
     "data": {
      "text/plain": [
       "'models'"
      ]
     },
     "execution_count": 17,
     "metadata": {},
     "output_type": "execute_result"
    }
   ],
   "source": [
    "os.path.dirname(os.path.dirname('/models/gutenberg_test/'))[1:]"
   ]
  },
  {
   "cell_type": "code",
   "execution_count": 13,
   "metadata": {},
   "outputs": [
    {
     "data": {
      "text/plain": [
       "{'input': 'in the year of 1778'}"
      ]
     },
     "execution_count": 13,
     "metadata": {},
     "output_type": "execute_result"
    }
   ],
   "source": [
    "import json\n",
    "t = b'{\\n\\t\"input\": \"in the year of 1778\"\\n}'\n",
    "dec = t.decode('utf-8')\n",
    "json.loads(dec)"
   ]
  },
  {
   "cell_type": "code",
   "execution_count": null,
   "metadata": {},
   "outputs": [],
   "source": []
  }
 ],
 "metadata": {
  "kernelspec": {
   "display_name": "Python 3",
   "language": "python",
   "name": "python3"
  },
  "language_info": {
   "codemirror_mode": {
    "name": "ipython",
    "version": 3
   },
   "file_extension": ".py",
   "mimetype": "text/x-python",
   "name": "python",
   "nbconvert_exporter": "python",
   "pygments_lexer": "ipython3",
   "version": "3.5.5"
  }
 },
 "nbformat": 4,
 "nbformat_minor": 2
}
